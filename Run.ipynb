{
 "cells": [
  {
   "cell_type": "code",
   "execution_count": null,
   "id": "55488fc9-202f-49a3-ab89-f2d44d9aa935",
   "metadata": {},
   "outputs": [],
   "source": [
    "!nvidia-smi"
   ]
  },
  {
   "cell_type": "code",
   "execution_count": null,
   "id": "5aee8c80-481e-4e1f-bf0b-8668ffa1cca9",
   "metadata": {},
   "outputs": [],
   "source": [
    "#!sh install.sh"
   ]
  },
  {
   "cell_type": "code",
   "execution_count": null,
   "id": "038c5d69-906a-401c-9428-8c2a16c27829",
   "metadata": {},
   "outputs": [],
   "source": [
    "%cd /root/autodl-tmp/\n",
    "!tar xf animefull-latest.tar -C /root/autodl-tmp/naifu/models && rm animefull-latest.tar\n",
    "!sed -i 's/map_location=\"cpu\"/map_location=\"cuda\"/g' /root/autodl-tmp/naifu/hydra_node/models.py\n",
    "\n",
    "%cd /root/autodl-tmp/naifu\n",
    "%env DTYPE=float16\n",
    "%env CLIP_CONTEXTS=3\n",
    "%env AMP=1\n",
    "%env MODEL=stable-diffusion\n",
    "%env DEV=True\n",
    "%env MODEL_PATH=models/animefull-latest\n",
    "%env ENABLE_EMA=1\n",
    "%env VAE_PATH=models/animevae.pt\n",
    "%env PENULTIMATE=1\n",
    "%env PYTHONDONTWRITEBYTECODE=1\n",
    "%env SAVE_FILES=1\n",
    "!export no_proxy=127.0.0.1\n",
    "!./venv/bin/python -m uvicorn --host 0.0.0.0 --port=6006 main:app & bore local 6006 --to bore.pub & cloudflared tunnel --url localhost:6006"
   ]
  }
 ],
 "metadata": {
  "kernelspec": {
   "display_name": "Python 3 (ipykernel)",
   "language": "python",
   "name": "python3"
  },
  "language_info": {
   "codemirror_mode": {
    "name": "ipython",
    "version": 3
   },
   "file_extension": ".py",
   "mimetype": "text/x-python",
   "name": "python",
   "nbconvert_exporter": "python",
   "pygments_lexer": "ipython3",
   "version": "3.8.10"
  }
 },
 "nbformat": 4,
 "nbformat_minor": 5
}
